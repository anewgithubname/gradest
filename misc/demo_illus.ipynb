{
 "cells": [
  {
   "cell_type": "code",
   "execution_count": 10,
   "metadata": {},
   "outputs": [
    {
     "name": "stdout",
     "output_type": "stream",
     "text": [
      "Gradient Flow: Version 1.0\n",
      "Song Liu et al., Variational Gradient Descent using Local Linear Models\n",
      "arxiv: https://arxiv.org/abs/2305.15577\n",
      "\n",
      "Copyright, Song Liu (song.liu@bristol.ac.uk)\n",
      "Powered by Juzhen (https://github.com/anewgithubname/Juzhen)\n",
      "    _           _                \n",
      "   (_)_   _ ___| |__   ___ _ __  \n",
      "   | | | | |_  / '_ \\ / _ \\ '_ \\ \n",
      "   | | |_| |/ /| | | |  __/ | | |\n",
      "  _/ |\\__,_/___|_| |_|\\___|_| |_|\n",
      " |__/                            \n",
      "                                 \n"
     ]
    }
   ],
   "source": [
    "from core.gradest import infer, version\n",
    "import torch \n",
    "from core.torchGradFlow import infer_cv, plot_norm_contour\n",
    "version()\n",
    "\n",
    "import numpy as np\n",
    "from numpy import ones, zeros, eye \n"
   ]
  },
  {
   "cell_type": "code",
   "execution_count": 11,
   "metadata": {},
   "outputs": [],
   "source": [
    "def gradcomp(mup, covarp, n=1001):\n",
    "    from scipy.stats import multivariate_normal as MVN\n",
    "\n",
    "    d = 2\n",
    "    \n",
    "    muq = zeros(d)\n",
    "    covarq = eye(d)\n",
    "\n",
    "    Xp = MVN(mup, covarp).rvs(n).astype(np.float32)\n",
    "    Xq = MVN(muq, covarq).rvs(n).astype(np.float32)\n",
    "\n",
    "    # generate a grid [-2, 2]\n",
    "    x = torch.linspace(-2, 2, 20)\n",
    "    y = torch.linspace(-2, 2, 20)\n",
    "    x0 = torch.stack(torch.meshgrid(x, y), dim=-1).reshape(-1, 2)\n",
    "\n",
    "    grad = infer(Xp, Xq, x0.numpy())\n",
    "    return mup, covarp, muq, covarq, x0, grad\n"
   ]
  },
  {
   "cell_type": "code",
   "execution_count": 12,
   "metadata": {},
   "outputs": [],
   "source": [
    "def plot_grad(mup, covarp, muq, covarq, x0, grad):\n",
    "\n",
    "    import matplotlib.pyplot as plt\n",
    "    from torch.distributions.multivariate_normal import MultivariateNormal as torchMVN\n",
    "\n",
    "    plt.figure(figsize=(5, 5))\n",
    "    plot_norm_contour(mup, covarp)\n",
    "    plot_norm_contour(muq, covarq, 'b')\n",
    "    plt.title(\"red: p, blue q, green: estimated grad, red: true gradient\")\n",
    "\n",
    "    x0.requires_grad = True\n",
    "    logr0 = torchMVN(torch.from_numpy(mup), torch.from_numpy(covarp)).log_prob(x0) - torchMVN(torch.from_numpy(muq), torch.from_numpy(covarq)).log_prob(x0)\n",
    "    grad_logr0 = torch.autograd.grad(logr0.sum(), x0)[0]\n",
    "\n",
    "    #plot the gradient estimate\n",
    "    plt.quiver(x0[:, 0].detach().cpu(), x0[:, 1].detach().cpu(), \n",
    "            grad[:, 0], \n",
    "            grad[:, 1], scale=40, color='g')\n",
    "\n",
    "    plt.quiver(x0[:, 0].detach().cpu(), x0[:, 1].detach().cpu(), \n",
    "            grad_logr0[:, 0].cpu(),\n",
    "            grad_logr0[:, 1].cpu(), scale=40, color='r')\n",
    "\n",
    "    plt.xlim(-2, 2)\n",
    "    plt.ylim(-2, 2)"
   ]
  },
  {
   "cell_type": "code",
   "execution_count": 13,
   "metadata": {},
   "outputs": [
    {
     "data": {
      "application/vnd.jupyter.widget-view+json": {
       "model_id": "aa619bb61a62478e96f6114aeaa16e25",
       "version_major": 2,
       "version_minor": 0
      },
      "text/plain": [
       "interactive(children=(FloatSlider(value=0.0, continuous_update=False, description='mup1', max=2.0, min=-2.0), …"
      ]
     },
     "metadata": {},
     "output_type": "display_data"
    },
    {
     "data": {
      "text/plain": [
       "<function __main__.f(mup1, mup2, varp, n)>"
      ]
     },
     "execution_count": 13,
     "metadata": {},
     "output_type": "execute_result"
    }
   ],
   "source": [
    "from ipywidgets import interact, interactive, fixed, interact_manual\n",
    "import ipywidgets as widgets\n",
    "\n",
    "def f(mup1, mup2, varp, n):\n",
    "    mup, covarp, muq, covarq, x0, grad = gradcomp(np.array([mup1, mup2]), eye(2)*varp, n)\n",
    "    plot_grad(mup, covarp, muq, covarq, x0, grad)\n",
    "\n",
    "interact_manual(f, mup1=widgets.FloatSlider(min=-2, max=2, step=.1, value=0, continuous_update=False), \n",
    "          mup2=widgets.FloatSlider(min=-2, max=2, step=.1, value=0, continuous_update=False), \n",
    "          varp=widgets.FloatSlider(min=.25, max=2, step=.1, value=1, continuous_update=False),\n",
    "          n=widgets.IntSlider(min=500, max=10000, step=50, value=500, continuous_update=False))\n"
   ]
  },
  {
   "cell_type": "code",
   "execution_count": null,
   "metadata": {},
   "outputs": [],
   "source": []
  }
 ],
 "metadata": {
  "kernelspec": {
   "display_name": "Python 3 (ipykernel)",
   "language": "python",
   "name": "python3"
  },
  "language_info": {
   "codemirror_mode": {
    "name": "ipython",
    "version": 3
   },
   "file_extension": ".py",
   "mimetype": "text/x-python",
   "name": "python",
   "nbconvert_exporter": "python",
   "pygments_lexer": "ipython3",
   "version": "3.10.10"
  }
 },
 "nbformat": 4,
 "nbformat_minor": 2
}
